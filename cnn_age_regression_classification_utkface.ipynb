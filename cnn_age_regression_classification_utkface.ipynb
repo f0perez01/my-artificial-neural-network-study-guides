{
  "nbformat": 4,
  "nbformat_minor": 0,
  "metadata": {
    "colab": {
      "provenance": []
    },
    "kernelspec": {
      "name": "python3",
      "display_name": "Python 3"
    },
    "language_info": {
      "name": "python"
    }
  },
  "cells": [
    {
      "cell_type": "markdown",
      "source": [
        "# cnn_age_regression_classification_utkface\n",
        "\n",
        "### El objetivo principal del script es:\n",
        "\n",
        "Construir y evaluar modelos de redes neuronales convolucionales (CNN) para estimar la edad de personas a partir de imágenes faciales del dataset UTKFace, primero como un problema de regresión (predicción continua de la edad) y luego como un problema de clasificación (agrupando las edades en rangos).\n",
        "\n",
        "**Desglose del flujo del script:**\n",
        "\n",
        "1. Descarga y preparación del dataset\n",
        "\n",
        "  * Descarga UTKFace desde Google Drive.\n",
        "\n",
        "  * Extrae el archivo .tar.gz y renombra las imágenes.\n",
        "\n",
        "  * Obtiene las edades de los nombres de los archivos.\n",
        "\n",
        "2. Exploración inicial\n",
        "\n",
        "  * Grafica la distribución de edades para visualizar el desbalance.\n",
        "\n",
        "3. División en entrenamiento y prueba\n",
        "\n",
        "  * 80% para entrenamiento y 20% para prueba.\n",
        "\n",
        "4. Preprocesamiento\n",
        "\n",
        "  * Carga las imágenes como arrays.\n",
        "\n",
        "  * Aplica transformación logarítmica a las edades (para estabilizar la varianza).\n",
        "\n",
        "5. Modelo 1 – CNN para regresión\n",
        "\n",
        "  * CNN sencilla con capas Conv2D, MaxPooling, Dropout y Dense.\n",
        "\n",
        "  * Entrenada para predecir edad como valor continuo (loss: mean_squared_error).\n",
        "\n",
        "6. Análisis del desbalance\n",
        "\n",
        "  * Identifica el desbalance de edades.\n",
        "\n",
        "  * Plantea una estrategia de clasificación (agrupando edades en clases/rangos).\n",
        "\n",
        "7. Modelo 2 – CNN para clasificación\n",
        "\n",
        "  * CNN más profunda.\n",
        "\n",
        "  * Salida con activación softmax para predecir la clase de edad (rango).\n",
        "\n",
        "**En resumen:**\n",
        "\n",
        "El script resuelve el problema de estimación de edad a partir de imágenes faciales usando CNN:\n",
        "\n",
        "  * Primero como regresión (edad exacta).\n",
        "\n",
        "  * Luego como clasificación (rangos etarios), considerando el desbalance de clases.\n",
        "\n",
        "¿Quieres que te haga un diagrama visual del flujo completo (dataset → preprocesamiento → CNN regresión → análisis de desbalance → CNN clasificación)?\n",
        "¿O lo describimos en pseudocódigo paso a paso para entenderlo como algoritmo?"
      ],
      "metadata": {
        "id": "HUGtn46eUQCR"
      }
    },
    {
      "cell_type": "markdown",
      "source": [
        "# estimación de edad\n",
        "* Descargue el set de datos UTKFace del sitio del curso y revise las especificaciones de este en https://susanqq.github.io/UTKFace/.\n",
        "* Cargue el set de datos y grafique la distribución de las edades.\n",
        "* Construya una CNN que a partir de una regresión, permita estimar la edad de las personas en la fotografías. Calcule métricas de rendimiento relevantes.\n",
        "* Analice el efecto del desbalance de las edades y proponga un esquema para enfrentarlo, si ahora el problema de estimación se plantea como una clasificación."
      ],
      "metadata": {
        "id": "qmsPfHvOTXQD"
      }
    },
    {
      "cell_type": "code",
      "execution_count": null,
      "metadata": {
        "id": "9b_0IK3aTWKb"
      },
      "outputs": [],
      "source": [
        "!pip install gdown"
      ]
    },
    {
      "cell_type": "code",
      "source": [
        "import gdown\n",
        "import shutil\n",
        "import os\n",
        "from PIL import Image\n",
        "import numpy as np\n",
        "import gc\n",
        "\n",
        "import tensorflow as tf\n",
        "import tensorflow.keras as keras\n",
        "from tensorflow.keras import layers, models\n",
        "\n",
        "import matplotlib.pyplot as plt"
      ],
      "metadata": {
        "id": "JYt9eFkBThJq"
      },
      "execution_count": null,
      "outputs": []
    },
    {
      "cell_type": "code",
      "source": [
        "gdown.download_folder(\"https://drive.google.com/drive/folders/0BxYys69jI14kU0I1YUQyY1ZDRUE?resourcekey=0-01Pth1hq20K4kuGVkp3oBw\", quiet=True, output=\"data\")"
      ],
      "metadata": {
        "id": "Gn_AxnB6Thpy"
      },
      "execution_count": null,
      "outputs": []
    },
    {
      "cell_type": "code",
      "source": [
        "shutil.unpack_archive(\"data/UTKFace.tar.gz\", \"data/UTKFace\")"
      ],
      "metadata": {
        "id": "lz_05gOCTjMH"
      },
      "execution_count": null,
      "outputs": []
    },
    {
      "cell_type": "code",
      "source": [
        "filenames = os.listdir(\"data/UTKFace/UTKFace\")\n",
        "for filename in filenames:\n",
        "    name, *extensions = filename.split(\".\")\n",
        "    os.rename(f\"data/UTKFace/UTKFace/{filename}\", f\"data/UTKFace/UTKFace/{name}.jpg\")\n",
        "filenames = os.listdir(\"data/UTKFace/UTKFace\")"
      ],
      "metadata": {
        "id": "P3CTkFOxTmXG"
      },
      "execution_count": null,
      "outputs": []
    },
    {
      "cell_type": "code",
      "source": [
        "ages = np.array([int(filename.split(\"_\")[0]) for filename in filenames])"
      ],
      "metadata": {
        "id": "TLKTJ3PLToBn"
      },
      "execution_count": null,
      "outputs": []
    },
    {
      "cell_type": "code",
      "source": [
        "plt.figure(dpi=100)\n",
        "plt.hist(ages, bins=50)\n",
        "plt.xlabel(\"Edad\")\n",
        "plt.show()"
      ],
      "metadata": {
        "id": "xcrXh5wvTqL5"
      },
      "execution_count": null,
      "outputs": []
    },
    {
      "cell_type": "code",
      "source": [
        "train_indices = np.random.choice(np.arange(len(filenames)), int(.8*len(filenames)), replace=False)\n",
        "train_mask = np.zeros(len(filenames), dtype=bool)\n",
        "train_mask[train_indices] = True\n",
        "\n",
        "test_mask = ~train_mask"
      ],
      "metadata": {
        "id": "rH-IOVhZTrte"
      },
      "execution_count": null,
      "outputs": []
    },
    {
      "cell_type": "code",
      "source": [
        "images = np.array([np.asarray(Image.open(f'data/UTKFace/UTKFace/{filename}')) for filename in filenames])\n",
        "\n",
        "train_images, train_ages = images[train_mask], ages[train_mask]\n",
        "test_images, test_ages = images[test_mask], ages[test_mask]\n",
        "\n",
        "# Borramos la lista de imagenes iniciales y hacemos que el garbage collector libere la memoria\n",
        "# para evitar tener problemas de memoria mas adelante\n",
        "del images\n",
        "gc.collect()"
      ],
      "metadata": {
        "id": "89GvPyt_TswI"
      },
      "execution_count": null,
      "outputs": []
    },
    {
      "cell_type": "code",
      "source": [
        "train_ages = np.log(train_ages)\n",
        "test_ages = np.log(test_ages)"
      ],
      "metadata": {
        "id": "HUKRi629Tvoc"
      },
      "execution_count": null,
      "outputs": []
    },
    {
      "cell_type": "code",
      "source": [
        "CNN = models.Sequential(\n",
        "        [\n",
        "            layers.InputLayer(input_shape=(200, 200, 3)),\n",
        "            layers.Conv2D(64, kernel_size=(3, 3), activation=\"relu\"),\n",
        "            layers.MaxPooling2D(pool_size=(2, 2)),\n",
        "            layers.Conv2D(128, kernel_size=(3, 3), activation=\"relu\"),\n",
        "            layers.MaxPooling2D(pool_size=(2, 2)),\n",
        "            layers.Flatten(),\n",
        "            layers.Dropout(.5),\n",
        "            layers.Dense(1),\n",
        "        ]\n",
        "    )\n",
        "CNN.compile(loss=\"mean_squared_error\", optimizer=\"adam\", metrics=[tf.keras.metrics.RootMeanSquaredError()])"
      ],
      "metadata": {
        "id": "k7NbK0DmTuc7"
      },
      "execution_count": null,
      "outputs": []
    },
    {
      "cell_type": "code",
      "source": [
        "history = CNN.fit(train_images, train_ages, batch_size=128, epochs=20, validation_split=0.1)"
      ],
      "metadata": {
        "id": "t4dWliQ4TydK"
      },
      "execution_count": null,
      "outputs": []
    },
    {
      "cell_type": "code",
      "source": [
        "unique_ages, counts = np.unique(ages, return_counts=True)"
      ],
      "metadata": {
        "id": "CUt7lsVAT0TW"
      },
      "execution_count": null,
      "outputs": []
    },
    {
      "cell_type": "code",
      "source": [
        "classes"
      ],
      "metadata": {
        "id": "gThYVGOQT1kH"
      },
      "execution_count": null,
      "outputs": []
    },
    {
      "cell_type": "code",
      "source": [
        "class_labels = np.zeros_like(ages)\n",
        "for i, age in enumerate(ages):\n",
        "    for j, (cls, c) in enumerate(classes):\n",
        "        if age in cls:\n",
        "            class_labels[i] = j"
      ],
      "metadata": {
        "id": "z2PQaGlnT27f"
      },
      "execution_count": null,
      "outputs": []
    },
    {
      "cell_type": "code",
      "source": [
        "class_label_names = [\"/\".join(map(str, cls)) for cls, c in classes]"
      ],
      "metadata": {
        "id": "yM3yVi6sT4IR"
      },
      "execution_count": null,
      "outputs": []
    },
    {
      "cell_type": "code",
      "source": [
        "images = np.array([np.asarray(Image.open(f'data/UTKFace/UTKFace/{filename}')) for filename in filenames])\n",
        "\n",
        "train_images, train_labels = images[train_mask], class_labels[train_mask]\n",
        "test_images, test_labels = images[test_mask], class_labels[test_mask]\n",
        "\n",
        "del images\n",
        "gc.collect()"
      ],
      "metadata": {
        "id": "-OAngVhET5XN"
      },
      "execution_count": null,
      "outputs": []
    },
    {
      "cell_type": "code",
      "source": [
        "CNN_classifier = models.Sequential(\n",
        "        [\n",
        "            layers.InputLayer(input_shape=(200, 200, 3)),\n",
        "            layers.Conv2D(64, kernel_size=(3, 3), activation=\"relu\"),\n",
        "            layers.MaxPooling2D(pool_size=(2, 2)),\n",
        "            layers.Conv2D(128, kernel_size=(3, 3), activation=\"relu\"),\n",
        "            layers.MaxPooling2D(pool_size=(2, 2)),\n",
        "            layers.Conv2D(256, kernel_size=(3, 3), activation=\"relu\"),\n",
        "            layers.MaxPooling2D(pool_size=(2, 2)),\n",
        "            layers.Conv2D(128, kernel_size=(3, 3), activation=\"relu\"),\n",
        "            layers.MaxPooling2D(pool_size=(2, 2)),\n",
        "            layers.Conv2D(64, kernel_size=(3, 3), activation=\"relu\"),\n",
        "            layers.MaxPooling2D(pool_size=(2, 2)),\n",
        "            layers.Flatten(),\n",
        "            layers.Dropout(.5),\n",
        "            layers.Dense(len(classes), activation=\"softmax\"),\n",
        "        ]\n",
        "    )\n",
        "CNN_classifier.compile(loss=\"sparse_categorical_crossentropy\", optimizer=\"adam\", metrics=[\"accuracy\"])"
      ],
      "metadata": {
        "id": "Koe26ImVT6rh"
      },
      "execution_count": null,
      "outputs": []
    },
    {
      "cell_type": "code",
      "source": [
        "classifier_history = CNN_classifier.fit(train_images, train_labels, batch_size=128, epochs=20, validation_split=0.1)"
      ],
      "metadata": {
        "id": "vM56xo15T70A"
      },
      "execution_count": null,
      "outputs": []
    }
  ]
}